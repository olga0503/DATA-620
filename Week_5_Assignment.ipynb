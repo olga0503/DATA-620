{
 "cells": [
  {
   "cell_type": "markdown",
   "metadata": {},
   "source": [
    "# Project 1"
   ]
  },
  {
   "cell_type": "markdown",
   "metadata": {},
   "source": [
    "### Data Gathering"
   ]
  },
  {
   "cell_type": "markdown",
   "metadata": {},
   "source": [
    "Collect the data from 2018 FIFA World Cup web page (http://www.beinsports.com/en/2018-fifa-world-cup-russia/fixtures-results) using web scrapping technique."
   ]
  },
  {
   "cell_type": "code",
   "execution_count": 395,
   "metadata": {},
   "outputs": [],
   "source": [
    "#import libraries\n",
    "from urllib.request import urlopen\n",
    "from bs4 import BeautifulSoup\n",
    "import pandas as pd\n",
    "import numpy as np"
   ]
  },
  {
   "cell_type": "code",
   "execution_count": 396,
   "metadata": {},
   "outputs": [
    {
     "name": "stdout",
     "output_type": "stream",
     "text": [
      "['RUSSIA', 'SAUDI ARABIA', 'EGYPT', 'URUGUAY', 'MOROCCO', 'IR IRAN', 'PORTUGAL', 'SPAIN', 'FRANCE', 'AUSTRALIA', 'ARGENTINA', 'ICELAND', 'PERU', 'DENMARK', 'CROATIA', 'NIGERIA', 'COSTA RICA', 'SERBIA', 'GERMANY', 'MEXICO', 'BRAZIL', 'SWITZERLAND', 'SWEDEN', 'KOREA REPUBLIC', 'BELGIUM', 'PANAMA', 'TUNISIA', 'ENGLAND', 'COLOMBIA', 'JAPAN', 'POLAND', 'SENEGAL', 'RUSSIA', 'EGYPT', 'PORTUGAL', 'MOROCCO', 'URUGUAY', 'SAUDI ARABIA', 'IR IRAN', 'SPAIN', 'DENMARK', 'AUSTRALIA', 'FRANCE', 'PERU', 'ARGENTINA', 'CROATIA', 'BRAZIL', 'COSTA RICA', 'NIGERIA', 'ICELAND', 'SERBIA', 'SWITZERLAND', 'BELGIUM', 'TUNISIA', 'KOREA REPUBLIC', 'MEXICO', 'GERMANY', 'SWEDEN', 'ENGLAND', 'PANAMA', 'JAPAN', 'SENEGAL', 'POLAND', 'COLOMBIA', 'URUGUAY', 'RUSSIA', 'SAUDI ARABIA', 'EGYPT', 'IR IRAN', 'PORTUGAL', 'SPAIN', 'MOROCCO', 'DENMARK', 'FRANCE', 'AUSTRALIA', 'PERU', 'NIGERIA', 'ARGENTINA', 'ICELAND', 'CROATIA', 'MEXICO', 'SWEDEN', 'KOREA REPUBLIC', 'GERMANY', 'SERBIA', 'BRAZIL', 'SWITZERLAND\\xa0 \\xa0 \\xa0', 'COSTA RICA', 'JAPAN', 'POLAND', 'SENEGAL', 'COLOMBIA', 'PANAMA', 'TUNISIA', 'ENGLAND', 'BELGIUM', 'URUGUAY', 'PORTUGAL', 'FRANCE', 'ARGENTINA', 'SPAIN', 'RUSSIA', 'CROATIA', 'DENMARK', 'BRAZIL', 'MEXICO', 'BELGIUM', 'JAPAN', 'SWEDEN', 'SWITZERLAND', 'COLOMBIA', 'ENGLAND', 'URUGUAY', 'FRANCE', 'BRAZIL', 'BELGIUM', 'RUSSIA', 'CROATIA', 'SWEDEN', 'ENGLAND', 'FRANCE', 'BELGIUM', 'CROATIA', 'ENGLAND', 'BELGIUM', 'ENGLAND', 'FRANCE', 'CROATIA']\n",
      "['5-0', '0-1', '0-1', '3-3', '2-1', '1-1', '0-1', '2-0', '0-1', '0-1', '1-1', '1-0', '3-0', '1-2', '1-2', '1-2', '3-1', '1-0', '1-0', '0-1', '1-1', '1-0', '0-3', '2-0', '2-0', '1-2', '5-2', '1-2', '2-1', '6-1', '2-2', '0-3', '3-0', '2-1', '1-1', '2-2', '0-0', '0-2', '1-2', '1-2', '0-3', '2-0', '0-2', '2-2', '0-1', '0-1', '1-2', '0-1', '2-1', '4-3', '1\\xa0(3)\\xa0-\\xa01(4)', '1\\xa0(3)\\xa0-\\xa01(2)', '2-0', '3-2', '1-0', '1\\xa0(3)\\xa0-\\xa01(4)', '0-2', '1-2', '2\\xa0(3)\\xa0-\\xa02(4)', '0-2', '1-0', '2-1', '2-0', '18:00']\n"
     ]
    }
   ],
   "source": [
    "#read content from http://www.beinsports.com/en/2018-fifa-world-cup-russia/fixtures-results page\n",
    "html = urlopen(\"http://www.beinsports.com/en/2018-fifa-world-cup-russia/fixtures-results\")\n",
    "res = BeautifulSoup(html.read(),\"html5lib\");\n",
    "\n",
    "#find all matches\n",
    "matches = res.findAll(\"tr\", {\"itemtype\": \"https://schema.org/SportsEvent\"})\n",
    "\n",
    "#create list variables to store web content\n",
    "teams = list()\n",
    "teams_list = list()\n",
    "goals = list()\n",
    "goals_list = list()\n",
    "\n",
    "#find all teams\n",
    "for match in matches:\n",
    "    teams = match.findAll(\"p\", {\"itemprop\":\"performer\"})\n",
    "    for item in teams:\n",
    "            team = item.get_text()\n",
    "            teams_list.append(team)\n",
    "\n",
    "print(teams_list)\n",
    "\n",
    "#find goals\n",
    "for match in matches:\n",
    "    goals = match.findAll(\"p\", {\"itemprop\":\"startDate\"})\n",
    "    for item in goals:\n",
    "            goal = item.get_text()\n",
    "            goals_list.append(goal)\n",
    "\n",
    "print(goals_list)"
   ]
  },
  {
   "cell_type": "markdown",
   "metadata": {},
   "source": [
    "### Data Cleaning"
   ]
  },
  {
   "cell_type": "code",
   "execution_count": 397,
   "metadata": {},
   "outputs": [
    {
     "data": {
      "text/html": [
       "<div>\n",
       "<style scoped>\n",
       "    .dataframe tbody tr th:only-of-type {\n",
       "        vertical-align: middle;\n",
       "    }\n",
       "\n",
       "    .dataframe tbody tr th {\n",
       "        vertical-align: top;\n",
       "    }\n",
       "\n",
       "    .dataframe thead th {\n",
       "        text-align: right;\n",
       "    }\n",
       "</style>\n",
       "<table border=\"1\" class=\"dataframe\">\n",
       "  <thead>\n",
       "    <tr style=\"text-align: right;\">\n",
       "      <th></th>\n",
       "      <th>team 1</th>\n",
       "      <th>team 2</th>\n",
       "      <th>scores</th>\n",
       "    </tr>\n",
       "  </thead>\n",
       "  <tbody>\n",
       "    <tr>\n",
       "      <th>0</th>\n",
       "      <td>RUSSIA</td>\n",
       "      <td>SAUDI ARABIA</td>\n",
       "      <td>5-0</td>\n",
       "    </tr>\n",
       "    <tr>\n",
       "      <th>1</th>\n",
       "      <td>EGYPT</td>\n",
       "      <td>URUGUAY</td>\n",
       "      <td>0-1</td>\n",
       "    </tr>\n",
       "    <tr>\n",
       "      <th>2</th>\n",
       "      <td>MOROCCO</td>\n",
       "      <td>IR IRAN</td>\n",
       "      <td>0-1</td>\n",
       "    </tr>\n",
       "    <tr>\n",
       "      <th>3</th>\n",
       "      <td>PORTUGAL</td>\n",
       "      <td>SPAIN</td>\n",
       "      <td>3-3</td>\n",
       "    </tr>\n",
       "    <tr>\n",
       "      <th>4</th>\n",
       "      <td>FRANCE</td>\n",
       "      <td>AUSTRALIA</td>\n",
       "      <td>2-1</td>\n",
       "    </tr>\n",
       "  </tbody>\n",
       "</table>\n",
       "</div>"
      ],
      "text/plain": [
       "     team 1        team 2 scores\n",
       "0    RUSSIA  SAUDI ARABIA    5-0\n",
       "1     EGYPT       URUGUAY    0-1\n",
       "2   MOROCCO       IR IRAN    0-1\n",
       "3  PORTUGAL         SPAIN    3-3\n",
       "4    FRANCE     AUSTRALIA    2-1"
      ]
     },
     "execution_count": 397,
     "metadata": {},
     "output_type": "execute_result"
    }
   ],
   "source": [
    "#create matches DataFrame\n",
    "matches = pd.DataFrame()\n",
    "\n",
    "#create team 1 variable\n",
    "matches['team 1'] = teams_list[::2]\n",
    "#create team 2 variable\n",
    "matches['team 2'] = teams_list[1::2]\n",
    "\n",
    "#create scores variable\n",
    "matches['scores'] = goals_list\n",
    "\n",
    "matches.tail()\n",
    "\n",
    "#add missing result\n",
    "matches['scores'][len(matches)-1] = '2-4'\n",
    "matches.head()"
   ]
  },
  {
   "cell_type": "markdown",
   "metadata": {},
   "source": [
    "Split scores column to two columns."
   ]
  },
  {
   "cell_type": "code",
   "execution_count": 398,
   "metadata": {},
   "outputs": [
    {
     "data": {
      "text/html": [
       "<div>\n",
       "<style scoped>\n",
       "    .dataframe tbody tr th:only-of-type {\n",
       "        vertical-align: middle;\n",
       "    }\n",
       "\n",
       "    .dataframe tbody tr th {\n",
       "        vertical-align: top;\n",
       "    }\n",
       "\n",
       "    .dataframe thead th {\n",
       "        text-align: right;\n",
       "    }\n",
       "</style>\n",
       "<table border=\"1\" class=\"dataframe\">\n",
       "  <thead>\n",
       "    <tr style=\"text-align: right;\">\n",
       "      <th></th>\n",
       "      <th>team 1</th>\n",
       "      <th>team 2</th>\n",
       "      <th>scores</th>\n",
       "      <th>team1_score</th>\n",
       "      <th>team2_score</th>\n",
       "    </tr>\n",
       "  </thead>\n",
       "  <tbody>\n",
       "    <tr>\n",
       "      <th>59</th>\n",
       "      <td>SWEDEN</td>\n",
       "      <td>ENGLAND</td>\n",
       "      <td>0-2</td>\n",
       "      <td>0</td>\n",
       "      <td>2</td>\n",
       "    </tr>\n",
       "    <tr>\n",
       "      <th>60</th>\n",
       "      <td>FRANCE</td>\n",
       "      <td>BELGIUM</td>\n",
       "      <td>1-0</td>\n",
       "      <td>1</td>\n",
       "      <td>0</td>\n",
       "    </tr>\n",
       "    <tr>\n",
       "      <th>61</th>\n",
       "      <td>CROATIA</td>\n",
       "      <td>ENGLAND</td>\n",
       "      <td>2-1</td>\n",
       "      <td>2</td>\n",
       "      <td>1</td>\n",
       "    </tr>\n",
       "    <tr>\n",
       "      <th>62</th>\n",
       "      <td>BELGIUM</td>\n",
       "      <td>ENGLAND</td>\n",
       "      <td>2-0</td>\n",
       "      <td>2</td>\n",
       "      <td>0</td>\n",
       "    </tr>\n",
       "    <tr>\n",
       "      <th>63</th>\n",
       "      <td>FRANCE</td>\n",
       "      <td>CROATIA</td>\n",
       "      <td>2-4</td>\n",
       "      <td>2</td>\n",
       "      <td>4</td>\n",
       "    </tr>\n",
       "  </tbody>\n",
       "</table>\n",
       "</div>"
      ],
      "text/plain": [
       "     team 1   team 2 scores team1_score team2_score\n",
       "59   SWEDEN  ENGLAND    0-2           0           2\n",
       "60   FRANCE  BELGIUM    1-0           1           0\n",
       "61  CROATIA  ENGLAND    2-1           2           1\n",
       "62  BELGIUM  ENGLAND    2-0           2           0\n",
       "63   FRANCE  CROATIA    2-4           2           4"
      ]
     },
     "execution_count": 398,
     "metadata": {},
     "output_type": "execute_result"
    }
   ],
   "source": [
    "matches['team1_score'] = matches['scores'].str.split('-',expand=True)[0]\n",
    "matches['team2_score'] = matches['scores'].str.split('-',expand=True)[1]\n",
    "matches.tail()"
   ]
  },
  {
   "cell_type": "markdown",
   "metadata": {},
   "source": [
    "Convert penalties to goals."
   ]
  },
  {
   "cell_type": "code",
   "execution_count": 399,
   "metadata": {},
   "outputs": [
    {
     "data": {
      "text/html": [
       "<div>\n",
       "<style scoped>\n",
       "    .dataframe tbody tr th:only-of-type {\n",
       "        vertical-align: middle;\n",
       "    }\n",
       "\n",
       "    .dataframe tbody tr th {\n",
       "        vertical-align: top;\n",
       "    }\n",
       "\n",
       "    .dataframe thead th {\n",
       "        text-align: right;\n",
       "    }\n",
       "</style>\n",
       "<table border=\"1\" class=\"dataframe\">\n",
       "  <thead>\n",
       "    <tr style=\"text-align: right;\">\n",
       "      <th></th>\n",
       "      <th>team 1</th>\n",
       "      <th>team 2</th>\n",
       "      <th>scores</th>\n",
       "      <th>team1_score</th>\n",
       "      <th>team2_score</th>\n",
       "    </tr>\n",
       "  </thead>\n",
       "  <tbody>\n",
       "    <tr>\n",
       "      <th>59</th>\n",
       "      <td>SWEDEN</td>\n",
       "      <td>ENGLAND</td>\n",
       "      <td>0-2</td>\n",
       "      <td>0</td>\n",
       "      <td>2</td>\n",
       "    </tr>\n",
       "    <tr>\n",
       "      <th>60</th>\n",
       "      <td>FRANCE</td>\n",
       "      <td>BELGIUM</td>\n",
       "      <td>1-0</td>\n",
       "      <td>1</td>\n",
       "      <td>0</td>\n",
       "    </tr>\n",
       "    <tr>\n",
       "      <th>61</th>\n",
       "      <td>CROATIA</td>\n",
       "      <td>ENGLAND</td>\n",
       "      <td>2-1</td>\n",
       "      <td>2</td>\n",
       "      <td>1</td>\n",
       "    </tr>\n",
       "    <tr>\n",
       "      <th>62</th>\n",
       "      <td>BELGIUM</td>\n",
       "      <td>ENGLAND</td>\n",
       "      <td>2-0</td>\n",
       "      <td>2</td>\n",
       "      <td>0</td>\n",
       "    </tr>\n",
       "    <tr>\n",
       "      <th>63</th>\n",
       "      <td>FRANCE</td>\n",
       "      <td>CROATIA</td>\n",
       "      <td>2-4</td>\n",
       "      <td>2</td>\n",
       "      <td>4</td>\n",
       "    </tr>\n",
       "  </tbody>\n",
       "</table>\n",
       "</div>"
      ],
      "text/plain": [
       "     team 1   team 2 scores team1_score team2_score\n",
       "59   SWEDEN  ENGLAND    0-2           0           2\n",
       "60   FRANCE  BELGIUM    1-0           1           0\n",
       "61  CROATIA  ENGLAND    2-1           2           1\n",
       "62  BELGIUM  ENGLAND    2-0           2           0\n",
       "63   FRANCE  CROATIA    2-4           2           4"
      ]
     },
     "execution_count": 399,
     "metadata": {},
     "output_type": "execute_result"
    }
   ],
   "source": [
    "#read integer between parentheses\n",
    "for i in range(0,len(matches['team1_score'])-1):\n",
    "    mo = re.search(r'\\((.*)\\)', matches['team1_score'][i])\n",
    "    if mo:\n",
    "        matches['team1_score'][i] = mo.group(1)\n",
    "\n",
    "#read integer between parentheses\n",
    "for i in range(0,len(matches['team2_score'])-1):\n",
    "    mo = re.search(r'\\((.*)\\)', matches['team2_score'][i])\n",
    "    if mo:\n",
    "        matches['team2_score'][i] = mo.group(1)        \n",
    "\n",
    "matches.tail()        "
   ]
  },
  {
   "cell_type": "code",
   "execution_count": 400,
   "metadata": {},
   "outputs": [
    {
     "data": {
      "text/html": [
       "<div>\n",
       "<style scoped>\n",
       "    .dataframe tbody tr th:only-of-type {\n",
       "        vertical-align: middle;\n",
       "    }\n",
       "\n",
       "    .dataframe tbody tr th {\n",
       "        vertical-align: top;\n",
       "    }\n",
       "\n",
       "    .dataframe thead th {\n",
       "        text-align: right;\n",
       "    }\n",
       "</style>\n",
       "<table border=\"1\" class=\"dataframe\">\n",
       "  <thead>\n",
       "    <tr style=\"text-align: right;\">\n",
       "      <th></th>\n",
       "      <th>team 1</th>\n",
       "      <th>team 2</th>\n",
       "      <th>scores</th>\n",
       "      <th>team1_score</th>\n",
       "      <th>team2_score</th>\n",
       "      <th>winneng_team</th>\n",
       "      <th>losing_team</th>\n",
       "    </tr>\n",
       "  </thead>\n",
       "  <tbody>\n",
       "    <tr>\n",
       "      <th>0</th>\n",
       "      <td>RUSSIA</td>\n",
       "      <td>SAUDI ARABIA</td>\n",
       "      <td>5-0</td>\n",
       "      <td>5.0</td>\n",
       "      <td>0.0</td>\n",
       "      <td>RUSSIA</td>\n",
       "      <td>SAUDI ARABIA</td>\n",
       "    </tr>\n",
       "    <tr>\n",
       "      <th>1</th>\n",
       "      <td>EGYPT</td>\n",
       "      <td>URUGUAY</td>\n",
       "      <td>0-1</td>\n",
       "      <td>0.0</td>\n",
       "      <td>1.0</td>\n",
       "      <td>URUGUAY</td>\n",
       "      <td>EGYPT</td>\n",
       "    </tr>\n",
       "    <tr>\n",
       "      <th>2</th>\n",
       "      <td>MOROCCO</td>\n",
       "      <td>IR IRAN</td>\n",
       "      <td>0-1</td>\n",
       "      <td>0.0</td>\n",
       "      <td>1.0</td>\n",
       "      <td>IR IRAN</td>\n",
       "      <td>MOROCCO</td>\n",
       "    </tr>\n",
       "    <tr>\n",
       "      <th>3</th>\n",
       "      <td>PORTUGAL</td>\n",
       "      <td>SPAIN</td>\n",
       "      <td>3-3</td>\n",
       "      <td>3.0</td>\n",
       "      <td>3.0</td>\n",
       "      <td>PORTUGAL</td>\n",
       "      <td>SPAIN</td>\n",
       "    </tr>\n",
       "    <tr>\n",
       "      <th>4</th>\n",
       "      <td>FRANCE</td>\n",
       "      <td>AUSTRALIA</td>\n",
       "      <td>2-1</td>\n",
       "      <td>2.0</td>\n",
       "      <td>1.0</td>\n",
       "      <td>FRANCE</td>\n",
       "      <td>AUSTRALIA</td>\n",
       "    </tr>\n",
       "  </tbody>\n",
       "</table>\n",
       "</div>"
      ],
      "text/plain": [
       "     team 1        team 2 scores  team1_score  team2_score winneng_team  \\\n",
       "0    RUSSIA  SAUDI ARABIA    5-0          5.0          0.0       RUSSIA   \n",
       "1     EGYPT       URUGUAY    0-1          0.0          1.0      URUGUAY   \n",
       "2   MOROCCO       IR IRAN    0-1          0.0          1.0      IR IRAN   \n",
       "3  PORTUGAL         SPAIN    3-3          3.0          3.0     PORTUGAL   \n",
       "4    FRANCE     AUSTRALIA    2-1          2.0          1.0       FRANCE   \n",
       "\n",
       "    losing_team  \n",
       "0  SAUDI ARABIA  \n",
       "1         EGYPT  \n",
       "2       MOROCCO  \n",
       "3         SPAIN  \n",
       "4     AUSTRALIA  "
      ]
     },
     "execution_count": 400,
     "metadata": {},
     "output_type": "execute_result"
    }
   ],
   "source": [
    "#convert goals variable to numeric type\n",
    "matches['team1_score'] = matches['team1_score'].astype(float)\n",
    "matches['team2_score'] = matches['team2_score'].astype(float)\n",
    "\n",
    "#create two new columns - 'winneng team' and 'losing team'\n",
    "matches['winneng_team'] = np.where(matches['team1_score']>=matches['team2_score'], matches['team 1'],matches['team 2'])\n",
    "matches['losing_team'] = np.where(matches['team1_score']<matches['team2_score'], matches['team 1'],matches['team 2'])\n",
    "\n",
    "matches.head()"
   ]
  },
  {
   "cell_type": "code",
   "execution_count": 401,
   "metadata": {},
   "outputs": [],
   "source": [
    "#write data to csv file\n",
    "match_results = matches[['winneng_team','losing_team']].copy()\n",
    "match_results.head()\n",
    "match_results.to_csv('match_results1.csv',index=False)"
   ]
  },
  {
   "cell_type": "markdown",
   "metadata": {},
   "source": [
    "Load csv file to neo4j DB."
   ]
  },
  {
   "cell_type": "code",
   "execution_count": null,
   "metadata": {},
   "outputs": [],
   "source": [
    "USING PERIODIC COMMIT\n",
    "LOAD CSV WITH HEADERS FROM \"https://raw.githubusercontent.com/olga0503/DATA-620/master/match_results.csv\" AS csvLine\n",
    "merge (n:winneng_team{winneng_team: csvLine.winneng_team})\n",
    "merge (n:losing_team{losing_team: csvLine.losing_team})\n",
    "merge (n)-[r:wins]-(n)\n",
    "RETURN *"
   ]
  },
  {
   "cell_type": "markdown",
   "metadata": {},
   "source": [
    "Calculate degree centrality for each node (team). Degree centrality identifies  how manuy connections each node has to other nodes within the network. Since the FIFA network is directed degree centrality mesuares by in-degree or out-degree. Let's calculate out-degree that specifies the number of out-going links or the number of successor nodes."
   ]
  },
  {
   "cell_type": "code",
   "execution_count": 423,
   "metadata": {},
   "outputs": [
    {
     "data": {
      "text/plain": [
       "winneng_team\n",
       "ARGENTINA           2\n",
       "BELGIUM             6\n",
       "BRAZIL              4\n",
       "COLOMBIA            2\n",
       "CROATIA             7\n",
       "DENMARK             3\n",
       "ENGLAND             4\n",
       "FRANCE              5\n",
       "GERMANY             1\n",
       "IR IRAN             2\n",
       "JAPAN               2\n",
       "KOREA REPUBLIC      1\n",
       "MEXICO              2\n",
       "NIGERIA             1\n",
       "PERU                1\n",
       "POLAND              1\n",
       "PORTUGAL            2\n",
       "RUSSIA              3\n",
       "SAUDI ARABIA        1\n",
       "SENEGAL             1\n",
       "SERBIA              1\n",
       "SPAIN               2\n",
       "SWEDEN              3\n",
       "SWITZERLAND         1\n",
       "SWITZERLAND         1\n",
       "TUNISIA             1\n",
       "URUGUAY             4\n",
       "dtype: int64"
      ]
     },
     "execution_count": 423,
     "metadata": {},
     "output_type": "execute_result"
    }
   ],
   "source": [
    "#calculate degree_centrality \n",
    "matches.groupby('winneng_team').size()"
   ]
  },
  {
   "cell_type": "markdown",
   "metadata": {},
   "source": [
    "Calculate EigenCentrality. EigenCentrality measures a node’s influence based on the number of links it has to other nodes within the network."
   ]
  },
  {
   "cell_type": "code",
   "execution_count": null,
   "metadata": {},
   "outputs": [],
   "source": []
  }
 ],
 "metadata": {
  "kernelspec": {
   "display_name": "Python 3",
   "language": "python",
   "name": "python3"
  },
  "language_info": {
   "codemirror_mode": {
    "name": "ipython",
    "version": 3
   },
   "file_extension": ".py",
   "mimetype": "text/x-python",
   "name": "python",
   "nbconvert_exporter": "python",
   "pygments_lexer": "ipython3",
   "version": "3.6.5"
  }
 },
 "nbformat": 4,
 "nbformat_minor": 2
}
