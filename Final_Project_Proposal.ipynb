{
 "cells": [
  {
   "cell_type": "markdown",
   "metadata": {},
   "source": [
    "## Final Project Proposal"
   ]
  },
  {
   "attachments": {},
   "cell_type": "markdown",
   "metadata": {},
   "source": [
    "FedCentral is platform that was created for non-profit Jewish organizations. It allows users to search for materials such as documents, photos and videos. Those materials are usually used for web pages, printouts, trainings or for various donation or educational campaigns.   \n",
    "\n",
    "The goals of the project are:\n",
    "1. To create search algorithm.  The current search algorithm sometimes returns irrelevant results.<br> \n",
    "  a. Algorithm should find materials that contain exact or partial keyword match.<br>\n",
    "  b. Materials with exact keyword match should appear in main results while materials with partial keryword match should appear in related results section.<br>\n",
    "  c. Search results should be sorted based on frequency of occurrence of keywords in material content.<br>\n",
    "  d. Results that have keyword match in title should appear above documents that have keyword match in description.\n",
    "\n",
    "\n",
    "2. To create algorithm that recommends materials to users.  The following features should be considered:<br>\n",
    "   a. based on browsing history<br>\n",
    "   b. based on material's type, categories or tag<br>\n",
    "   c. based on content match"
   ]
  }
 ],
 "metadata": {
  "kernelspec": {
   "display_name": "Python 3",
   "language": "python",
   "name": "python3"
  },
  "language_info": {
   "codemirror_mode": {
    "name": "ipython",
    "version": 3
   },
   "file_extension": ".py",
   "mimetype": "text/x-python",
   "name": "python",
   "nbconvert_exporter": "python",
   "pygments_lexer": "ipython3",
   "version": "3.6.5"
  }
 },
 "nbformat": 4,
 "nbformat_minor": 2
}
