{
 "cells": [
  {
   "cell_type": "markdown",
   "metadata": {},
   "source": [
    "## Final Project Proposal"
   ]
  },
  {
   "attachments": {},
   "cell_type": "markdown",
   "metadata": {},
   "source": [
    "FedCentral is platform that allows users to search for materials such as documents, photos and videos.    \n",
    "\n",
    "The goals of the project are:\n",
    "1. To create search algorithm \n",
    "   a. Algorithm should find documents that contain exact or partial keyword match.\n",
    "   b. Search results should be sorted based on frequency occurrence of keywords in document content.\n",
    "   c. Results that have keyword in title should appear above documents that have keyword match in description.\n",
    "\n",
    "2. To create algorithm that recommends documents to users\n",
    "   a. based on browsing history\n",
    "   b. based on documents categories such as categories or tags"
   ]
  }
 ],
 "metadata": {
  "kernelspec": {
   "display_name": "Python 3",
   "language": "python",
   "name": "python3"
  },
  "language_info": {
   "codemirror_mode": {
    "name": "ipython",
    "version": 3
   },
   "file_extension": ".py",
   "mimetype": "text/x-python",
   "name": "python",
   "nbconvert_exporter": "python",
   "pygments_lexer": "ipython3",
   "version": "3.6.5"
  }
 },
 "nbformat": 4,
 "nbformat_minor": 2
}
