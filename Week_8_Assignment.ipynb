{
 "cells": [
  {
   "cell_type": "markdown",
   "metadata": {},
   "source": [
    "## Week 8 Assignment"
   ]
  },
  {
   "cell_type": "code",
   "execution_count": 380,
   "metadata": {},
   "outputs": [],
   "source": [
    "import nltk\n",
    "import pandas as pd\n",
    "import numpy as np\n",
    "from nltk.corpus import stopwords\n",
    "from matplotlib.pyplot import figure\n",
    "import matplotlib.pyplot as plt\n",
    "import math"
   ]
  },
  {
   "cell_type": "markdown",
   "metadata": {},
   "source": [
    "For this assignment I picked 'austen-persuasion' corpus from nltk package."
   ]
  },
  {
   "cell_type": "code",
   "execution_count": 381,
   "metadata": {},
   "outputs": [
    {
     "data": {
      "text/plain": [
       "['[', 'Persuasion', 'by', 'Jane', 'Austen', '1818', ...]"
      ]
     },
     "execution_count": 381,
     "metadata": {},
     "output_type": "execute_result"
    }
   ],
   "source": [
    "austen_persuasion = nltk.corpus.gutenberg.words('austen-persuasion.txt')\n",
    "austen_persuasion"
   ]
  },
  {
   "cell_type": "markdown",
   "metadata": {},
   "source": [
    "From my understanding, unique words are the set of distinct alphabetic strings in the corpus. In  order to find unique words I removed numbers and common stop words such as articles and prepositions. "
   ]
  },
  {
   "cell_type": "code",
   "execution_count": 382,
   "metadata": {},
   "outputs": [
    {
     "name": "stdout",
     "output_type": "stream",
     "text": [
      "The corpus contains 5905unique words\n"
     ]
    }
   ],
   "source": [
    "austen_persuasion = [word for word in austen_persuasion if word not in stopwords.words('english')]\n",
    "austen_persuasion = [w for w in austen_persuasion if w.isalpha()]\n",
    "print(\"The corpus contains \"+ str(len(set(austen_persuasion))) + \"unique words\")"
   ]
  },
  {
   "cell_type": "markdown",
   "metadata": {},
   "source": [
    "In order to find the most frequent unique words I built a frequency distribution from the corpus. The table below shows 10 top most friquent unique words."
   ]
  },
  {
   "cell_type": "code",
   "execution_count": 383,
   "metadata": {},
   "outputs": [
    {
     "data": {
      "text/html": [
       "<div>\n",
       "<style scoped>\n",
       "    .dataframe tbody tr th:only-of-type {\n",
       "        vertical-align: middle;\n",
       "    }\n",
       "\n",
       "    .dataframe tbody tr th {\n",
       "        vertical-align: top;\n",
       "    }\n",
       "\n",
       "    .dataframe thead th {\n",
       "        text-align: right;\n",
       "    }\n",
       "</style>\n",
       "<table border=\"1\" class=\"dataframe\">\n",
       "  <thead>\n",
       "    <tr style=\"text-align: right;\">\n",
       "      <th></th>\n",
       "      <th>word</th>\n",
       "      <th>frequency</th>\n",
       "      <th>probability</th>\n",
       "    </tr>\n",
       "  </thead>\n",
       "  <tbody>\n",
       "    <tr>\n",
       "      <th>0</th>\n",
       "      <td>I</td>\n",
       "      <td>1124</td>\n",
       "      <td>2.689060</td>\n",
       "    </tr>\n",
       "    <tr>\n",
       "      <th>1</th>\n",
       "      <td>Anne</td>\n",
       "      <td>497</td>\n",
       "      <td>1.189024</td>\n",
       "    </tr>\n",
       "    <tr>\n",
       "      <th>2</th>\n",
       "      <td>could</td>\n",
       "      <td>444</td>\n",
       "      <td>1.062226</td>\n",
       "    </tr>\n",
       "    <tr>\n",
       "      <th>3</th>\n",
       "      <td>would</td>\n",
       "      <td>351</td>\n",
       "      <td>0.839733</td>\n",
       "    </tr>\n",
       "    <tr>\n",
       "      <th>4</th>\n",
       "      <td>She</td>\n",
       "      <td>327</td>\n",
       "      <td>0.782315</td>\n",
       "    </tr>\n",
       "    <tr>\n",
       "      <th>5</th>\n",
       "      <td>Captain</td>\n",
       "      <td>297</td>\n",
       "      <td>0.710543</td>\n",
       "    </tr>\n",
       "    <tr>\n",
       "      <th>6</th>\n",
       "      <td>Mrs</td>\n",
       "      <td>291</td>\n",
       "      <td>0.696189</td>\n",
       "    </tr>\n",
       "    <tr>\n",
       "      <th>7</th>\n",
       "      <td>Elliot</td>\n",
       "      <td>288</td>\n",
       "      <td>0.689012</td>\n",
       "    </tr>\n",
       "    <tr>\n",
       "      <th>8</th>\n",
       "      <td>Mr</td>\n",
       "      <td>256</td>\n",
       "      <td>0.612455</td>\n",
       "    </tr>\n",
       "    <tr>\n",
       "      <th>9</th>\n",
       "      <td>must</td>\n",
       "      <td>228</td>\n",
       "      <td>0.545468</td>\n",
       "    </tr>\n",
       "    <tr>\n",
       "      <th>10</th>\n",
       "      <td>He</td>\n",
       "      <td>225</td>\n",
       "      <td>0.538290</td>\n",
       "    </tr>\n",
       "    <tr>\n",
       "      <th>11</th>\n",
       "      <td>one</td>\n",
       "      <td>221</td>\n",
       "      <td>0.528721</td>\n",
       "    </tr>\n",
       "    <tr>\n",
       "      <th>12</th>\n",
       "      <td>Wentworth</td>\n",
       "      <td>218</td>\n",
       "      <td>0.521544</td>\n",
       "    </tr>\n",
       "    <tr>\n",
       "      <th>13</th>\n",
       "      <td>The</td>\n",
       "      <td>209</td>\n",
       "      <td>0.500012</td>\n",
       "    </tr>\n",
       "    <tr>\n",
       "      <th>14</th>\n",
       "      <td>much</td>\n",
       "      <td>205</td>\n",
       "      <td>0.490442</td>\n",
       "    </tr>\n",
       "    <tr>\n",
       "      <th>15</th>\n",
       "      <td>Lady</td>\n",
       "      <td>191</td>\n",
       "      <td>0.456949</td>\n",
       "    </tr>\n",
       "    <tr>\n",
       "      <th>16</th>\n",
       "      <td>good</td>\n",
       "      <td>181</td>\n",
       "      <td>0.433025</td>\n",
       "    </tr>\n",
       "    <tr>\n",
       "      <th>17</th>\n",
       "      <td>It</td>\n",
       "      <td>181</td>\n",
       "      <td>0.433025</td>\n",
       "    </tr>\n",
       "    <tr>\n",
       "      <th>18</th>\n",
       "      <td>little</td>\n",
       "      <td>175</td>\n",
       "      <td>0.418670</td>\n",
       "    </tr>\n",
       "    <tr>\n",
       "      <th>19</th>\n",
       "      <td>said</td>\n",
       "      <td>173</td>\n",
       "      <td>0.413885</td>\n",
       "    </tr>\n",
       "  </tbody>\n",
       "</table>\n",
       "</div>"
      ],
      "text/plain": [
       "         word  frequency  probability\n",
       "0           I       1124     2.689060\n",
       "1        Anne        497     1.189024\n",
       "2       could        444     1.062226\n",
       "3       would        351     0.839733\n",
       "4         She        327     0.782315\n",
       "5     Captain        297     0.710543\n",
       "6         Mrs        291     0.696189\n",
       "7      Elliot        288     0.689012\n",
       "8          Mr        256     0.612455\n",
       "9        must        228     0.545468\n",
       "10         He        225     0.538290\n",
       "11        one        221     0.528721\n",
       "12  Wentworth        218     0.521544\n",
       "13        The        209     0.500012\n",
       "14       much        205     0.490442\n",
       "15       Lady        191     0.456949\n",
       "16       good        181     0.433025\n",
       "17         It        181     0.433025\n",
       "18     little        175     0.418670\n",
       "19       said        173     0.413885"
      ]
     },
     "execution_count": 383,
     "metadata": {},
     "output_type": "execute_result"
    }
   ],
   "source": [
    "#build frequency distribution\n",
    "freq_dist = nltk.FreqDist(austen_persuasion)\n",
    "\n",
    "# find most friquent unique words\n",
    "most_common = pd.DataFrame(freq_dist.most_common(),columns=['word','frequency'])\n",
    "most_common['probability'] = 100*most_common['frequency']/len(austen_persuasion)\n",
    "most_common.head(20)"
   ]
  },
  {
   "cell_type": "markdown",
   "metadata": {},
   "source": [
    "The next task is to find out the number of most common unique words that make up approximately 50% of the dataset."
   ]
  },
  {
   "cell_type": "code",
   "execution_count": 384,
   "metadata": {},
   "outputs": [
    {
     "name": "stdout",
     "output_type": "stream",
     "text": [
      "271 Most common unique words that make up approximately 50% of the dataset.\n"
     ]
    }
   ],
   "source": [
    "sum = [0]\n",
    "count = 0\n",
    "#add probabilities until sum reaches 50% \n",
    "\n",
    "for i in range(0,len(most_common)):\n",
    "        sum += most_common['probability'][i]\n",
    "        count += 1\n",
    "        if sum > 50:\n",
    "            break\n",
    "\n",
    "print(str(count+1) + \" Most common unique words that make up approximately 50% of the dataset.\")"
   ]
  },
  {
   "cell_type": "markdown",
   "metadata": {},
   "source": [
    "200 most common unique words are shown below."
   ]
  },
  {
   "cell_type": "code",
   "execution_count": 385,
   "metadata": {},
   "outputs": [
    {
     "name": "stdout",
     "output_type": "stream",
     "text": [
      "['I', 'Anne', 'could', 'would', 'She', 'Captain', 'Mrs', 'Elliot', 'Mr', 'must', 'He', 'one', 'Wentworth', 'The', 'much', 'Lady', 'good', 'It', 'little', 'said', 'Charles', 'might', 'never', 'time', 'think', 'Russell', 'Sir', 'Walter', 'well', 'Mary', 'man', 'nothing', 'Musgrove', 'know', 'Miss', 'see', 'soon', 'father', 'great', 'first', 'two', 'But', 'Louisa', 'quite', 'They', 'always', 'though', 'without', 'Bath', 'every', 'made', 'long', 'say', 'seemed', 'thought', 'Elizabeth', 'last', 'make', 'may', 'go', 'better', 'found', 'however', 'friend', 'home', 'young', 'many', 'sister', 'like', 'felt', 'You', 'family', 'away', 'way', 'ever', 'house', 'Uppercross', 'day', 'give', 'feelings', 'room', 'Harville', 'done', 'Henrietta', 'sure', 'Kellynch', 'still', 'come', 'enough', 'moment', 'There', 'Benwick', 'back', 'Smith', 'woman', 'even', 'came', 'Lyme', 'A', 'Clay', 'present', 'going', 'Admiral', 'heard', 'mind', 'upon', 'happy', 'another', 'And', 'party', 'acquaintance', 'knew', 'something', 'almost', 'rather', 'years', 'half', 'seen', 'morning', 'Croft', 'wish', 'shall', 'yet', 'evening', 'together', 'others', 'look', 'hope', 'Oh', 'indeed', 'ought', 'gone', 'saw', 'This', 'place', 'take', 'perhaps', 'till', 'character', 'life', 'dear', 'known', 'left', 'anything', 'us', 'poor', 'No', 'side', 'short', 'believe', 'cried', 'wife', 'near', 'possible', 'Her', 'looking', 'We', 'best', 'leave', 'certainly', 'feel', 'interest', 'since', 'really', 'old', 'right', 'deal', 'perfectly', 'In', 'manner', 'mother', 'least', 'whole', 'part', 'cannot', 'looked', 'course', 'love', 'heart', 'thing', 'name', 'next', 'spirits', 'sort', 'Musgroves', 'passed', 'idea', 'If', 'three', 'people', 'hardly', 'pleasure', 'among', 'agreeable', 'everything', 'hear', 'Hayter', 'How', 'seeing']\n"
     ]
    }
   ],
   "source": [
    "print(list(most_common['word'][:199]))"
   ]
  },
  {
   "cell_type": "markdown",
   "metadata": {},
   "source": [
    "Thew graph below shows the relative frequency of these 200 words."
   ]
  },
  {
   "cell_type": "code",
   "execution_count": 386,
   "metadata": {},
   "outputs": [
    {
     "data": {
      "image/png": "[encoded data removed]",
      "text/plain": [
       "<Figure size 432x288 with 1 Axes>"
      ]
     },
     "metadata": {},
     "output_type": "display_data"
    }
   ],
   "source": [
    "import matplotlib.pyplot as plt\n",
    "freq_dist.plot(200, cumulative=True)"
   ]
  },
  {
   "cell_type": "markdown",
   "metadata": {},
   "source": [
    "The simplest way to show most common unique words follow Zipf's law is to plot the data. Looking at most frequent and least frequent words only is misleading. For those types of words Zipf's law has the highest errors.\n",
    "Instead of plotting rank vs. frequency, it is better to plot log(rank) on the x-axis and log(frequency) on the y axis. If Zipf's law holds we should see a line with slope -1. "
   ]
  },
  {
   "cell_type": "code",
   "execution_count": 387,
   "metadata": {},
   "outputs": [
    {
     "data": {
      "image/png": "[encoded data removed]",
      "text/plain": [
       "<Figure size 432x288 with 1 Axes>"
      ]
     },
     "metadata": {},
     "output_type": "display_data"
    }
   ],
   "source": [
    "most_common['Zipf']= (most_common.index.values+1)*most_common['frequency']\n",
    "most_common['log_f']=np.log(most_common['frequency'])\n",
    "most_common['log_rank']=np.log(most_common.index.values+1)\n",
    "\n",
    "most_common[:200]\n",
    "most_common.plot(x='log_rank',y='log_f')\n",
    "plt.show()"
   ]
  },
  {
   "cell_type": "markdown",
   "metadata": {},
   "source": [
    "The graph above shows that line slope is close to -1. It means that most common unique words follow Zipf's law."
   ]
  },
  {
   "cell_type": "markdown",
   "metadata": {},
   "source": [
    "Words frequencies differ corpus to corpus. The word can be found within most common words in this coprpus but it can be found within less common words in the different corpus. "
   ]
  }
 ],
 "metadata": {
  "kernelspec": {
   "display_name": "Python 3",
   "language": "python",
   "name": "python3"
  },
  "language_info": {
   "codemirror_mode": {
    "name": "ipython",
    "version": 3
   },
   "file_extension": ".py",
   "mimetype": "text/x-python",
   "name": "python",
   "nbconvert_exporter": "python",
   "pygments_lexer": "ipython3",
   "version": "3.6.5"
  }
 },
 "nbformat": 4,
 "nbformat_minor": 2
}
