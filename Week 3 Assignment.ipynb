{
 "cells": [
  {
   "cell_type": "markdown",
   "metadata": {},
   "source": [
    "## Load a graph database "
   ]
  },
  {
   "cell_type": "code",
   "execution_count": null,
   "metadata": {},
   "outputs": [],
   "source": [
    "I selected the dataset that represents a collection of Facebook pages. Nodes specify the pages and edges represent mutual likes among pages."
   ]
  },
  {
   "cell_type": "markdown",
   "metadata": {},
   "source": [
    "## Visualization the graph"
   ]
  },
  {
   "cell_type": "code",
   "execution_count": null,
   "metadata": {},
   "outputs": [],
   "source": [
    "USING PERIODIC COMMIT\n",
    "LOAD CSV WITH HEADERS FROM \"https://raw.githubusercontent.com/olga0503/DATA-620/master/athletes_edges.csv\" AS csvLine\n",
    "merge (n:node_1{node_1: csvLine.node_1})\n",
    "merge (m:node_2 {node_2: csvLine.node_2})\n",
    "merge (n)-[r:Likes]-(m)\n",
    "RETURN *\n",
    "LIMIT 1000"
   ]
  },
  {
   "cell_type": "code",
   "execution_count": null,
   "metadata": {},
   "outputs": [],
   "source": []
  },
  {
   "cell_type": "markdown",
   "metadata": {},
   "source": [
    "## Calculate graph’s diameter"
   ]
  },
  {
   "cell_type": "code",
   "execution_count": null,
   "metadata": {},
   "outputs": [],
   "source": [
    "MATCH (n), (m) \n",
    "WHERE id(n) <> id(m)\n",
    "MATCH p=shortestPath((n)-[*]-(m))\n",
    "RETURN n as beginning_pasth,m as end_path,length(p) AS legth_path, nodes(p) AS path\n",
    "ORDER BY len DESC \n",
    "LIMIT 1"
   ]
  }
 ],
 "metadata": {
  "kernelspec": {
   "display_name": "Python 3",
   "language": "python",
   "name": "python3"
  },
  "language_info": {
   "codemirror_mode": {
    "name": "ipython",
    "version": 3
   },
   "file_extension": ".py",
   "mimetype": "text/x-python",
   "name": "python",
   "nbconvert_exporter": "python",
   "pygments_lexer": "ipython3",
   "version": "3.6.5"
  }
 },
 "nbformat": 4,
 "nbformat_minor": 2
}
