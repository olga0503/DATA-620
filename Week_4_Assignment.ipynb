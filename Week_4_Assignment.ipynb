{
 "cells": [
  {
   "cell_type": "markdown",
   "metadata": {},
   "source": [
    "I picked 2018 FIFA World Cup dataset for analysis. \n",
    "In order to collect the data from 2018 FIFA World Cup website (http://www.beinsports.com/en/2018-fifa-world-cup-russia/fixtures-results) I will apply web scrapping technique.\n",
    "\n",
    "After the data is collected I will clean and structure it using Python pakages for data science. After that I will write dataset to csv file.\n",
    "\n",
    "A new attribute will be added - Europe and non-Europe\n",
    "\n",
    "In order to vizualize the graph I will us neo4j DB."
   ]
  }
 ],
 "metadata": {
  "kernelspec": {
   "display_name": "Python 3",
   "language": "python",
   "name": "python3"
  },
  "language_info": {
   "codemirror_mode": {
    "name": "ipython",
    "version": 3
   },
   "file_extension": ".py",
   "mimetype": "text/x-python",
   "name": "python",
   "nbconvert_exporter": "python",
   "pygments_lexer": "ipython3",
   "version": "3.6.5"
  }
 },
 "nbformat": 4,
 "nbformat_minor": 2
}
