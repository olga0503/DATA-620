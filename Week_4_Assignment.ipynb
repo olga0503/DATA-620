{
 "cells": [
  {
   "cell_type": "markdown",
   "metadata": {},
   "source": [
    "## Assignment Week 4"
   ]
  },
  {
   "cell_type": "markdown",
   "metadata": {},
   "source": [
    "For project #1 I picked 2018 FIFA World Cup dataset. "
   ]
  },
  {
   "cell_type": "markdown",
   "metadata": {},
   "source": [
    "### Data Gathering"
   ]
  },
  {
   "cell_type": "markdown",
   "metadata": {},
   "source": [
    "In order to collect the data from 2018 FIFA World Cup web page (http://www.beinsports.com/en/2018-fifa-world-cup-russia/fixtures-results) web scrapping technique will be used.  Python pakages for web scrapping are 'Requests' and 'Beautiful Soup 4'."
   ]
  },
  {
   "cell_type": "code",
   "execution_count": 1,
   "metadata": {},
   "outputs": [],
   "source": [
    "import requests\n",
    "from bs4 import BeautifulSoup\n",
    "\n",
    "page = requests.get('http://examplesite.com')\n",
    "contents = page.content\n",
    "\n",
    "soup = BeautifulSoup(contents, 'html.parser')\n",
    "#navigate to html elements\n",
    "#soup.find_all('a')"
   ]
  },
  {
   "cell_type": "markdown",
   "metadata": {},
   "source": [
    "### Data Cleaning"
   ]
  },
  {
   "cell_type": "markdown",
   "metadata": {},
   "source": [
    "After the data is collected it needs to be cleaned and properly structured. Python pakage 'pandas' will be imported. "
   ]
  },
  {
   "cell_type": "code",
   "execution_count": 3,
   "metadata": {},
   "outputs": [],
   "source": [
    "import pandas as pd"
   ]
  },
  {
   "cell_type": "markdown",
   "metadata": {},
   "source": [
    "The following common data problems will be considered:\n",
    "\n",
    "1. Inconsistent column names\n",
    "2. Incorrect column types causes unexpected values(convert to appropriate data type)\n",
    "3. Missing data (imputing or dropping missing values are potential solutions)\n",
    "4. Untidy data\n",
    "5. Outliers\n",
    "6. Need to process columns\n",
    "\n",
    "Additionally , a new attribute will be added - Europe(for teams from Europian countries) and non-Europe (for teams from non-Europian countries)."
   ]
  },
  {
   "cell_type": "markdown",
   "metadata": {},
   "source": [
    "### Data Exporting"
   ]
  },
  {
   "cell_type": "markdown",
   "metadata": {},
   "source": [
    "A pandas Dataframe will be saved as a CSV file."
   ]
  },
  {
   "cell_type": "code",
   "execution_count": 7,
   "metadata": {},
   "outputs": [],
   "source": [
    "# df.to_csv('example.csv')"
   ]
  },
  {
   "cell_type": "markdown",
   "metadata": {},
   "source": [
    "The graph will be created in neo4j DB based on exported CSV file."
   ]
  },
  {
   "cell_type": "markdown",
   "metadata": {},
   "source": [
    "### Graph measures\n",
    "\n",
    "Degree centrality will be calculated for two groups (Europian teams and non-Europian teams) to determine if there are any differences in centrality measures between the two groups.  A t-test will be performed to support the findings."
   ]
  },
  {
   "cell_type": "code",
   "execution_count": null,
   "metadata": {},
   "outputs": [],
   "source": []
  }
 ],
 "metadata": {
  "kernelspec": {
   "display_name": "Python 3",
   "language": "python",
   "name": "python3"
  },
  "language_info": {
   "codemirror_mode": {
    "name": "ipython",
    "version": 3
   },
   "file_extension": ".py",
   "mimetype": "text/x-python",
   "name": "python",
   "nbconvert_exporter": "python",
   "pygments_lexer": "ipython3",
   "version": "3.6.5"
  }
 },
 "nbformat": 4,
 "nbformat_minor": 2
}
